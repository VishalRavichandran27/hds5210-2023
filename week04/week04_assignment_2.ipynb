{
  "cells": [
    {
      "cell_type": "markdown",
      "metadata": {
        "id": "view-in-github",
        "colab_type": "text"
      },
      "source": [
        "<a href=\"https://colab.research.google.com/github/VishalRavichandran27/hds5210-2023/blob/main/week04/week04_assignment_2.ipynb\" target=\"_parent\"><img src=\"https://colab.research.google.com/assets/colab-badge.svg\" alt=\"Open In Colab\"/></a>"
      ]
    },
    {
      "cell_type": "markdown",
      "metadata": {
        "nbgrader": {
          "grade": false,
          "grade_id": "intro",
          "locked": true,
          "schema_version": 1,
          "solution": false
        },
        "id": "ufAxtg-MWmfb"
      },
      "source": [
        "# Week 4 Exercises\n",
        "\n",
        "See: _McKinney 3.1_ and [Python Documentation](https://docs.python.org/3/tutorial/datastructures.html) section 5 on data structures.\n",
        "\n",
        "Modules 13 through 15 have all been about different built-in data types that can be used to create larger and more complex data structures.  We learned about tuples, lists, dictionaries, and how to access and process that data in new ways.\n",
        "\n",
        "**At the begining of the semester, all of the workshop programming exercises will be structured a specific way to make it easier to verify for yourself that you're on the right track as well as easier for me to do a first pass on automated grading.  The structure of each question will require you to write a function using Python code. Don't worry that we haven't talked about functions yet. Just edit the code between** `### BEGIN SOLUTION` and `### END SOLUTION` **as shown in the example below.**\n"
      ]
    },
    {
      "cell_type": "markdown",
      "metadata": {
        "id": "wts7et6gWmfg"
      },
      "source": [
        "**WHAT I PROVIDE:**\n",
        "```\n",
        "def some_function(parameter1, parameter2):\n",
        "\n",
        "   ### BEGIN SOLUTION\n",
        "   x = -1\n",
        "   ### END SOLUTION\n",
        "   \n",
        "   return x\n",
        "```\n",
        "\n",
        "**WHAT YOU SHOULD DO:** Just change the parameter names (if you feel you need to) and the calculations between `### BEGIN SOLUTION` and `### END SOLUTION`.  This is just a made up example.\n",
        "```\n",
        "def some_function(a, b):\n",
        "\n",
        "   ### BEGIN SOLUTION\n",
        "   temp = a + b\n",
        "   x = temp / a * b\n",
        "   ### END SOLUTION\n",
        "   \n",
        "   return x\n",
        "```\n"
      ]
    },
    {
      "cell_type": "markdown",
      "metadata": {
        "id": "ULz5muceWmfg"
      },
      "source": [
        "---\n",
        "---\n",
        "\n",
        "**Below each programming exercise are some tests (`assertions`) that verify your code is working correctly.  If any assertions fail, you know that something isnt' right with your code, but having all assertions pass doesn't necessarily mean your code is perfect, yet. You should also create your own tests to make sure your code is correct.**\n",
        "\n",
        "**For now, please don't change any function names**"
      ]
    },
    {
      "cell_type": "markdown",
      "metadata": {
        "id": "8FaIR8kFWmfh"
      },
      "source": [
        "### 20.1 Create a sorted list of names\n",
        "\n",
        "Take the list of names below (some are first and last, others are first, middle, and last) and produce a final list of full names.\n",
        "\n",
        "```\n",
        "sort_names([\n",
        "  ['Paul', 'Boal'],\n",
        "  ['Kermit','the','Frog'],\n",
        "  ['Donald','Duck']])\n",
        "\n",
        "['Paul Boal', 'Donald Duck', 'Kermit the Frog']\n",
        "```"
      ]
    },
    {
      "cell_type": "markdown",
      "metadata": {
        "id": "0NHfJGLrWmfh"
      },
      "source": [
        "**Tip:** If you have a list of lists and want to sort it, Python can do that. It will simply sort using the first item in each of the lists inside your list."
      ]
    },
    {
      "cell_type": "code",
      "execution_count": 34,
      "metadata": {
        "id": "Lg8549vAWmfh"
      },
      "outputs": [],
      "source": [
        "names = [['Paul', 'Boal'],\n",
        "  ['Kermit','the','Frog'],\n",
        "  ['Donald','Duck']]"
      ]
    },
    {
      "cell_type": "code",
      "execution_count": 35,
      "metadata": {
        "colab": {
          "base_uri": "https://localhost:8080/"
        },
        "id": "IUiw8fgZWmfi",
        "outputId": "dea4d25c-991d-4c3d-8b23-2bdf915aa828"
      },
      "outputs": [
        {
          "output_type": "execute_result",
          "data": {
            "text/plain": [
              "['Paul Boal', 'Donald Duck', 'Kermit the Frog']"
            ]
          },
          "metadata": {},
          "execution_count": 35
        }
      ],
      "source": [
        "def name_sorter(name_list):\n",
        "  full_name=[]\n",
        "  family_name=[]\n",
        "  for i in name_list:\n",
        "    family_name.append(i[-1])\n",
        "    family_name.sort()\n",
        "  for i in family_name:\n",
        "    for j in name_list:\n",
        "      if len(j)==2 and i in j:\n",
        "        a=j[0]+\" \"+j[1]\n",
        "        full_name.append(a)\n",
        "      elif len(j)==3 and i in j:\n",
        "        a=j[0]+\" \"+j[1]+\" \"+j[2]\n",
        "        full_name.append(a)\n",
        "\n",
        "\n",
        "  return full_name\n",
        "name_sorter(names)"
      ]
    },
    {
      "cell_type": "code",
      "execution_count": 36,
      "metadata": {
        "id": "bWw6wZZsWmfj"
      },
      "outputs": [],
      "source": [
        "names = [['Paul', 'Boal'],\n",
        "  ['Kermit','the','Frog'],\n",
        "  ['Donald','Duck']]\n",
        "\n",
        "assert name_sorter(names) == [\"Paul Boal\", \"Donald Duck\", \"Kermit the Frog\"]"
      ]
    },
    {
      "cell_type": "code",
      "source": [
        "v_family=[['vishal','ravichandran'],['diwakar','mogarala'],['muni','sai','gagan']]\n",
        "name_sorter(v_family)"
      ],
      "metadata": {
        "colab": {
          "base_uri": "https://localhost:8080/"
        },
        "id": "qJ81nqXAZisg",
        "outputId": "8f2f3b17-54d8-47c3-a377-a1a53b3c02b5"
      },
      "execution_count": 37,
      "outputs": [
        {
          "output_type": "execute_result",
          "data": {
            "text/plain": [
              "['muni sai gagan', 'diwakar mogarala', 'vishal ravichandran']"
            ]
          },
          "metadata": {},
          "execution_count": 37
        }
      ]
    },
    {
      "cell_type": "markdown",
      "metadata": {
        "id": "LvZ43fesWmfj"
      },
      "source": [
        "### 20.2 Convert a dictionary to a list\n",
        "\n",
        "In this exercise, we're going to take a dictionary that has families and their names, and convert that into a list of names.  The dictionary is structured such that the key is the family name, and the value for that key is a list of first names.\n",
        "\n",
        "```\n",
        "{\n",
        "  'Boal': ['Paul', 'Anny', 'Jim'],\n",
        "  'Lester-Boal': ['Ellie', 'Ada', 'Teddy'],\n",
        "  'Lester': ['Sarahlynn', 'Jessica', 'Grace', 'Carolynn']\n",
        "}\n",
        "\n",
        "[['Boal', 'Paul'],\n",
        " ['Boal', 'Anny'],\n",
        " ['Boal', 'Jim'],\n",
        " ['Lester-Boal', 'Elliie'],\n",
        " ['Lester-Boal', 'Ada'],\n",
        " ...\n",
        "```"
      ]
    },
    {
      "cell_type": "code",
      "execution_count": 38,
      "metadata": {
        "id": "iBRpqU5ZWmfj"
      },
      "outputs": [],
      "source": [
        "families = {\n",
        "  'Boal': ['Paul', 'Anny', 'Jim'],\n",
        "  'Lester-Boal': ['Ellie', 'Ada', 'Teddy'],\n",
        "  'Lester': ['Sarahlynn', 'Jessica', 'Grace', 'Carolynn']\n",
        "}"
      ]
    },
    {
      "cell_type": "code",
      "execution_count": 39,
      "metadata": {
        "colab": {
          "base_uri": "https://localhost:8080/"
        },
        "id": "EiWsz-84Wmfj",
        "outputId": "ea52a315-16d6-4ae9-ea9f-6c9f52c170f3"
      },
      "outputs": [
        {
          "output_type": "execute_result",
          "data": {
            "text/plain": [
              "[['Boal', 'Paul'],\n",
              " ['Boal', 'Anny'],\n",
              " ['Boal', 'Jim'],\n",
              " ['Lester-Boal', 'Ellie'],\n",
              " ['Lester-Boal', 'Ada'],\n",
              " ['Lester-Boal', 'Teddy'],\n",
              " ['Lester', 'Sarahlynn'],\n",
              " ['Lester', 'Jessica'],\n",
              " ['Lester', 'Grace'],\n",
              " ['Lester', 'Carolynn']]"
            ]
          },
          "metadata": {},
          "execution_count": 39
        }
      ],
      "source": [
        "def dict_to_list(families):\n",
        "  family_names=[]\n",
        "  for i,j in families.items():\n",
        "      for k in j:\n",
        "        z=list()\n",
        "        z.append (i)\n",
        "        z.append (k)\n",
        "        family_names.append(z)\n",
        "  return family_names\n",
        "dict_to_list(families)"
      ]
    },
    {
      "cell_type": "code",
      "execution_count": 40,
      "metadata": {
        "colab": {
          "base_uri": "https://localhost:8080/"
        },
        "id": "P92-KwxgWmfk",
        "outputId": "93cf559c-2903-4169-d9d2-bc3d97f708dc"
      },
      "outputs": [
        {
          "output_type": "execute_result",
          "data": {
            "text/plain": [
              "[['Duck', 'Hewey'],\n",
              " ['Duck', 'Dewey'],\n",
              " ['Duck', 'Louie'],\n",
              " ['Mouse', 'Mickey'],\n",
              " ['Mouse', 'Minney']]"
            ]
          },
          "metadata": {},
          "execution_count": 40
        }
      ],
      "source": [
        "families = {\n",
        "  'Boal': ['Paul', 'Anny', 'Jim'],\n",
        "  'Lester-Boal': ['Ellie', 'Ada', 'Teddy'],\n",
        "  'Lester': ['Sarahlynn', 'Jessica', 'Grace', 'Carolynn']\n",
        "}\n",
        "\n",
        "dict_to_list({'Duck': ['Hewey','Dewey','Louie'],\n",
        "              'Mouse': ['Mickey','Minney']})"
      ]
    },
    {
      "cell_type": "markdown",
      "metadata": {
        "nbgrader": {
          "grade": false,
          "grade_id": "average",
          "locked": true,
          "schema_version": 1,
          "solution": false
        },
        "id": "YCePF_0LWmfk"
      },
      "source": [
        "### 20.3 Convert a list to a dictionary\n",
        "\n",
        "Take the list of lists below and convert it into a dictionary where the entries in the dictionary are keyed off of whatever values are in column 0, and the dictionary values are the list of all the values that appear with that key from the input list."
      ]
    },
    {
      "cell_type": "code",
      "execution_count": 41,
      "metadata": {
        "nbgrader": {
          "grade": false,
          "grade_id": "average-answer",
          "locked": false,
          "schema_version": 1,
          "solution": true
        },
        "id": "Oq5t8cBPWmfk"
      },
      "outputs": [],
      "source": [
        "def list_to_dict():\n",
        "\n",
        "    names = [['Boal', 'Paul'],\n",
        "             ['Duck', 'Donald'],\n",
        "             ['Duck', 'Daisy'],\n",
        "             ['Boal', 'Ada'],\n",
        "             ['Boal', 'Teddy'],\n",
        "             ['Westhus', 'Eric']]\n",
        "\n",
        "    # To help you, I've provided a blank dictionary named `families`.\n",
        "    families = {}\n",
        "    family_names=[]\n",
        "    for i in names:\n",
        "      family_names.append(i[0])\n",
        "    family_names=set(family_names)\n",
        "    for i in family_names:\n",
        "      people=[]\n",
        "      for j in names:\n",
        "        if i in j:\n",
        "          people.append (j[1])\n",
        "      families[i]=people\n",
        "\n",
        "    # Your code should loop through `names` and do something to build\n",
        "    # up `families` to be the output dictionary shown in the test\n",
        "    # cells below.\n",
        "\n",
        "    # Put your solution here\n",
        "\n",
        "    return families\n"
      ]
    },
    {
      "cell_type": "code",
      "execution_count": 42,
      "metadata": {
        "colab": {
          "base_uri": "https://localhost:8080/"
        },
        "id": "3G0LuR_NWmfk",
        "outputId": "fa6ad7d2-4a8d-4842-fa6f-2a2545f99fe9"
      },
      "outputs": [
        {
          "output_type": "execute_result",
          "data": {
            "text/plain": [
              "{'Westhus': ['Eric'],\n",
              " 'Duck': ['Donald', 'Daisy'],\n",
              " 'Boal': ['Paul', 'Ada', 'Teddy']}"
            ]
          },
          "metadata": {},
          "execution_count": 42
        }
      ],
      "source": [
        "list_to_dict()"
      ]
    },
    {
      "cell_type": "code",
      "execution_count": 43,
      "metadata": {
        "nbgrader": {
          "grade": true,
          "grade_id": "average-tests",
          "locked": true,
          "points": 5,
          "schema_version": 1,
          "solution": false
        },
        "id": "yIyrdU0LWmfk"
      },
      "outputs": [],
      "source": [
        "answer = {\n",
        " 'Boal':    ['Paul', 'Ada', 'Teddy'],\n",
        " 'Duck':    ['Donald', 'Daisy'],\n",
        " 'Westhus': ['Eric']\n",
        "}\n",
        "\n",
        "assert (list_to_dict() == answer)"
      ]
    },
    {
      "cell_type": "markdown",
      "metadata": {
        "id": "5ZebrAWwWmfk"
      },
      "source": [
        "### 20.4 Join using a dictionary\n",
        "\n",
        "We have a list of patients, diagnosis, and length of stay.  We also have a dictionary that contains diagnosis and average length of stay.  Produce an output list that lists the patient and an indicator if the patient's stay was 'too long', 'too short', 'just right'"
      ]
    },
    {
      "cell_type": "code",
      "execution_count": 44,
      "metadata": {
        "nbgrader": {
          "grade": false,
          "grade_id": "cell-f3813e33810dc898",
          "locked": false,
          "schema_version": 1,
          "solution": true
        },
        "id": "oxT0xDwPWmfl"
      },
      "outputs": [],
      "source": [
        "def patient_los(avg_los, patients):\n",
        "\n",
        "    conclusions = []\n",
        "    for i in patients:\n",
        "      report=[]\n",
        "      if avg_los[i[1]]>i[2]:\n",
        "        report.append(i[0])\n",
        "        report.append('too short')\n",
        "        conclusions.append(report)\n",
        "      if avg_los[i[1]]<i[2]:\n",
        "        report.append(i[0])\n",
        "        report.append('too long')\n",
        "        conclusions.append(report)\n",
        "      if avg_los[i[1]]==i[2]:\n",
        "        report.append(i[0])\n",
        "        report.append('just right')\n",
        "        conclusions.append(report)\n",
        "\n",
        "    # Put your solution here\n",
        "\n",
        "    return conclusions"
      ]
    },
    {
      "cell_type": "code",
      "execution_count": 45,
      "metadata": {
        "colab": {
          "base_uri": "https://localhost:8080/"
        },
        "id": "7vHjyDrLWmfl",
        "outputId": "648c0bf9-82ba-4619-f474-92a3eb84daf3"
      },
      "outputs": [
        {
          "output_type": "execute_result",
          "data": {
            "text/plain": [
              "[['Boal', 'too short'],\n",
              " ['Boal', 'too long'],\n",
              " ['Jones', 'just right'],\n",
              " ['Ashbury', 'too short']]"
            ]
          },
          "metadata": {},
          "execution_count": 45
        }
      ],
      "source": [
        "avg_los = {\n",
        "    \"Hemolytic jaundice and perinatal jaundice\" : 2,\n",
        "    \"Medical examination/evaluation\" : 3.2,\n",
        "    \"Liveborn\" : 3.2,\n",
        "    \"Trauma to perineum and vulva\" : 2.1,\n",
        "    \"Normal pregnancy and/or delivery\" : 2,\n",
        "    \"Umbilical cord complication\" : 2.1,\n",
        "    \"Forceps delivery\" : 2.2,\n",
        "    \"Administrative/social admission\" : 4.2,\n",
        "    \"Prolonged pregnancy\" : 2.4,\n",
        "    \"Other complications of pregnancy\" : 2.5\n",
        "}\n",
        "\n",
        "patients = [\n",
        "    ['Boal', 'Medical examination/evaluation', 1.1],\n",
        "    ['Boal', 'Other complications of pregnancy', 3.3],\n",
        "    ['Jones', 'Liveborn', 3.2],\n",
        "    ['Ashbury', 'Forceps delivery', 2.0]\n",
        "]\n",
        "\n",
        "patient_los(avg_los, patients)"
      ]
    },
    {
      "cell_type": "code",
      "execution_count": 46,
      "metadata": {
        "nbgrader": {
          "grade": true,
          "grade_id": "cell-2af0a520bb56ee21",
          "locked": true,
          "points": 10,
          "schema_version": 1,
          "solution": false
        },
        "id": "1G-TqVvHWmfl"
      },
      "outputs": [],
      "source": [
        "conclusions = [['Boal', 'too short'],\n",
        "    ['Boal', 'too long'],\n",
        "    ['Jones', 'just right'],\n",
        "    ['Ashbury', 'too short']]\n",
        "\n",
        "assert(patient_los(avg_los, patients) == conclusions)"
      ]
    },
    {
      "cell_type": "code",
      "execution_count": 46,
      "metadata": {
        "id": "PZ5km91BWmfl"
      },
      "outputs": [],
      "source": []
    },
    {
      "cell_type": "markdown",
      "metadata": {
        "id": "8xYcLx_aWmfl"
      },
      "source": [
        "---\n",
        "\n",
        "## Check your work above\n",
        "\n",
        "If you didn't get them all correct, take a few minutes to think through those that aren't correct.\n",
        "\n",
        "\n",
        "## Submitting Your Work\n",
        "\n",
        "In order to submit your work, you'll need to save this notebook file back to GitHub.  To do that in Google Colab:\n",
        "1. File -> Save a Copy in GitHub\n",
        "2. Make sure your HDS5210 repository is selected\n",
        "3. Make sure the file name includes the week number like this: `week04/week04_assignment_2.ipynb`\n",
        "4. Add a commit message that means something\n",
        "\n",
        "**Be sure week names are lowercase and use a two digit week number!!**\n",
        "\n",
        "**Be sure you use the same file name provided by the instructor!!**\n",
        "\n"
      ]
    },
    {
      "cell_type": "markdown",
      "metadata": {
        "id": "el1Pj3J2Wmfl"
      },
      "source": []
    }
  ],
  "metadata": {
    "celltoolbar": "Create Assignment",
    "kernelspec": {
      "display_name": "Python 3",
      "language": "python",
      "name": "python3"
    },
    "language_info": {
      "codemirror_mode": {
        "name": "ipython",
        "version": 3
      },
      "file_extension": ".py",
      "mimetype": "text/x-python",
      "name": "python",
      "nbconvert_exporter": "python",
      "pygments_lexer": "ipython3",
      "version": "3.6.7"
    },
    "colab": {
      "provenance": [],
      "include_colab_link": true
    }
  },
  "nbformat": 4,
  "nbformat_minor": 0
}