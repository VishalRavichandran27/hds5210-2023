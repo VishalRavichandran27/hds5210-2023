{
  "cells": [
    {
      "cell_type": "markdown",
      "metadata": {
        "id": "view-in-github",
        "colab_type": "text"
      },
      "source": [
        "<a href=\"https://colab.research.google.com/github/VishalRavichandran27/hds5210-2023/blob/main/week11/week11_assignment_2.ipynb\" target=\"_parent\"><img src=\"https://colab.research.google.com/assets/colab-badge.svg\" alt=\"Open In Colab\"/></a>"
      ]
    },
    {
      "cell_type": "markdown",
      "metadata": {
        "id": "5FK13UNaG-zY"
      },
      "source": [
        "# Week 11 Assignment\n",
        "\n",
        "\n",
        "Please do the programming exercise and verify that your code works using the tests, then think about your final project and fill out the questions in the second part.\n",
        "\n",
        "---\n",
        "---"
      ]
    },
    {
      "cell_type": "markdown",
      "metadata": {
        "id": "Gwkw-G8uG-zb"
      },
      "source": [
        "### 47.1: Filtering and summarizing data\n",
        "\n",
        "For this work, you'll find a data file in `https://hds5210-data.s3.amazonaws.com/complications_all.csv`.\n",
        "\n",
        "Read in the data file and create a variable called `mo_hospitals` that contains a data frame from the `complications_all.csv` file, filtered down to only contain those hospitals from the state of Missouri (MO).\n",
        "\n",
        "Then aggregate that data by hospital into a variable named `mo_summary`.  There are some key fields that we want to summarize:\n",
        "* We want to know the earliest date that each hospital was participating in any program\n",
        "* We want to know the latest date that each hospital stopped participating in any program\n",
        "* We want to know the total number of patients in the denominators of these programs\n",
        "\n",
        "Some things to note:\n",
        "* You will need to convert the `Start Date` and `End Date` to actual datetime fields\n",
        "* You will need to clean up and convert the `Denominator` field to just be numeric - the rule that you should use it to simply remove any records where the `Denominator` is `'Not Available'`\n",
        "\n",
        "\n",
        "The final result of this step should be a new data frame called `mo_summary` that contains one row for each hospital and contains the min start date, max end date, and total denominator.  Use the names `start_date`, `end_date`, and `number` for those columns in `mo_summary`.\n",
        "\n",
        "\n",
        "You do not need to create your code in the form of a function, just make sure your variable names match what I've described above so the tests work."
      ]
    },
    {
      "cell_type": "code",
      "execution_count": null,
      "metadata": {
        "id": "zojA2MG2G-zc"
      },
      "outputs": [],
      "source": [
        "import pandas as pd\n",
        "# This is just to show you the name to use for the variable you need to create for this step to pass.\n",
        "hospitals= pd.read_csv('https://hds5210-data.s3.amazonaws.com/complications_all.csv')"
      ]
    },
    {
      "cell_type": "code",
      "source": [
        "hospitals.dtypes"
      ],
      "metadata": {
        "id": "RVO6K3jE_6lP",
        "outputId": "76faa3f3-3c67-4173-d381-6ad158d6274c",
        "colab": {
          "base_uri": "https://localhost:8080/"
        }
      },
      "execution_count": null,
      "outputs": [
        {
          "output_type": "execute_result",
          "data": {
            "text/plain": [
              "Facility ID              object\n",
              "Facility Name            object\n",
              "Address                  object\n",
              "City                     object\n",
              "State                    object\n",
              "ZIP Code                  int64\n",
              "County Name              object\n",
              "Phone Number             object\n",
              "Measure ID               object\n",
              "Measure Name             object\n",
              "Compared to National     object\n",
              "Denominator              object\n",
              "Score                    object\n",
              "Lower Estimate           object\n",
              "Higher Estimate          object\n",
              "Footnote                float64\n",
              "Start Date               object\n",
              "End Date                 object\n",
              "dtype: object"
            ]
          },
          "metadata": {},
          "execution_count": 6
        }
      ]
    },
    {
      "cell_type": "code",
      "execution_count": null,
      "metadata": {
        "id": "MjYgIn-1G-zf",
        "outputId": "856d9a47-8ada-4bbc-e62f-fc523e694903",
        "colab": {
          "base_uri": "https://localhost:8080/"
        }
      },
      "outputs": [
        {
          "output_type": "stream",
          "name": "stderr",
          "text": [
            "<ipython-input-36-28c7b8077a89>:11: SettingWithCopyWarning: \n",
            "A value is trying to be set on a copy of a slice from a DataFrame.\n",
            "Try using .loc[row_indexer,col_indexer] = value instead\n",
            "\n",
            "See the caveats in the documentation: https://pandas.pydata.org/pandas-docs/stable/user_guide/indexing.html#returning-a-view-versus-a-copy\n",
            "  hospital['Denominator']=pd.to_numeric(hospital['Denominator'])\n"
          ]
        }
      ],
      "source": [
        "mo_hospitals=hospitals[hospitals['State']=='MO']\n",
        "mo_hospitals['Facility Name'].unique()\n",
        "mo_hospitals=mo_hospitals[mo_hospitals['Denominator']!='Not Available']\n",
        "facility_data={}\n",
        "start_date=[]\n",
        "end_date=[]\n",
        "facility_name=[]\n",
        "number=[]\n",
        "for facility in mo_hospitals['Facility Name'].unique():\n",
        "  hospital=mo_hospitals[mo_hospitals['Facility Name']==facility]\n",
        "  hospital['Denominator']=pd.to_numeric(hospital['Denominator'])\n",
        "  start_date.append(hospital['Start Date'].min())\n",
        "  end_date.append(hospital['End Date'].max())\n",
        "  number.append(sum(hospital['Denominator']))\n",
        "  facility_name.append(facility)\n",
        "facility_data['start_date']=start_date\n",
        "facility_data['end_date']=end_date\n",
        "facility_data['number']=number\n",
        "facility_data['Hospitals']=facility_name\n",
        "mo_summary=pd.DataFrame(facility_data)\n",
        "mo_summary.dtypes\n",
        "mo_summary['start_date'],mo_summary['end_date']=pd.to_datetime(mo_summary['start_date']),pd.to_datetime(mo_summary['end_date'])\n",
        "mo_summary=mo_summary.set_index('Hospitals')"
      ]
    },
    {
      "cell_type": "code",
      "execution_count": null,
      "metadata": {
        "id": "K_6qqlObG-zf"
      },
      "outputs": [],
      "source": [
        "assert(mo_summary['number'].sum() == 1766908)\n",
        "assert(mo_summary['start_date'].min() == pd.Timestamp(2015,4,1))\n",
        "assert(mo_summary['end_date'].max() == pd.Timestamp(2018,6,30))\n",
        "assert(mo_summary.shape == (108,3))\n",
        "assert(mo_summary.loc['BARNES JEWISH HOSPITAL'].number == 131313)\n",
        "assert(mo_summary.loc['BOONE HOSPITAL CENTER'].number == 63099)"
      ]
    },
    {
      "cell_type": "markdown",
      "metadata": {
        "id": "3fCbX94qG-zf"
      },
      "source": [
        "---\n",
        "\n",
        "### 47.2 Planning your final project\n",
        "\n",
        "You should be thinking about the things we've been learning and how you can apply them to your final project.  Use the rubric to help guid your thinking and then answer the questions below.  This is meant as a guide to help you think through what you will do."
      ]
    },
    {
      "cell_type": "markdown",
      "metadata": {
        "id": "Ta7vKFzMG-zf"
      },
      "source": [
        "#### A) Data Access\n",
        "\n",
        "Your project should include data from at least three distinct types of sources.  For example: AWS S3, Relational Databases, Internet, Web Services, local files.  List what data sources you're planning to use."
      ]
    },
    {
      "cell_type": "markdown",
      "metadata": {
        "id": "olyeyKikG-zg"
      },
      "source": [
        "Local files"
      ]
    },
    {
      "cell_type": "markdown",
      "metadata": {
        "id": "D4boTYrlG-zg"
      },
      "source": [
        "#### B. Data Formats\n",
        "\n",
        "Your project should include data that comes in different file formats.  For example: HL7, EDI, HTML, CSV, Excel, JSON, XML.  List what data formats you're planning to use."
      ]
    },
    {
      "cell_type": "markdown",
      "metadata": {
        "id": "mwhno-GxG-zg"
      },
      "source": [
        "CSV, Excel and Json"
      ]
    },
    {
      "cell_type": "markdown",
      "metadata": {
        "id": "RiqiqkI-G-zg"
      },
      "source": [
        "#### C. Objective\n",
        "\n",
        "What purpose would your project serve in a real work setting?  Take a couple of paragraphs to write down why this is an interesting product."
      ]
    },
    {
      "cell_type": "markdown",
      "metadata": {
        "id": "3L1RR_FXG-zg"
      },
      "source": [
        "To investigate trends in heart illness, I intend to work on (https://www.kaggle.com/datasets/yasserh/heart-disease-dataset)this dataset that combines machine learning and visualization techniques. Through the examination of various health data, such as lifestyle, cholesterol, and medical records, I hope to find undiscovered relationships that may be used to forecast the risk of heart disease. The data's visual representation will aid in comprehending the various aspects that influence heart health. In the end, this research may provide understanding into tailored therapies, early identification, and improved heart disease care, which could help people all across the world.\n"
      ]
    },
    {
      "cell_type": "markdown",
      "metadata": {
        "id": "jfLheciHG-zg"
      },
      "source": [
        "\n",
        "\n",
        "---\n",
        "\n",
        "\n",
        "\n",
        "## Submit your work via GitHub as normal\n"
      ]
    }
  ],
  "metadata": {
    "kernelspec": {
      "display_name": "Python 3",
      "language": "python",
      "name": "python3"
    },
    "language_info": {
      "codemirror_mode": {
        "name": "ipython",
        "version": 3
      },
      "file_extension": ".py",
      "mimetype": "text/x-python",
      "name": "python",
      "nbconvert_exporter": "python",
      "pygments_lexer": "ipython3",
      "version": "3.9.16"
    },
    "colab": {
      "provenance": [],
      "include_colab_link": true
    }
  },
  "nbformat": 4,
  "nbformat_minor": 0
}