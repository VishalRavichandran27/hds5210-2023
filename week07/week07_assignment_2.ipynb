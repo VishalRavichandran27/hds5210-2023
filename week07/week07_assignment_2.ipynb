{
  "cells": [
    {
      "cell_type": "markdown",
      "metadata": {
        "id": "view-in-github",
        "colab_type": "text"
      },
      "source": [
        "<a href=\"https://colab.research.google.com/github/VishalRavichandran27/hds5210-2023/blob/main/week07/week07_assignment_2.ipynb\" target=\"_parent\"><img src=\"https://colab.research.google.com/assets/colab-badge.svg\" alt=\"Open In Colab\"/></a>"
      ]
    },
    {
      "cell_type": "markdown",
      "metadata": {
        "id": "SsP2bkeeDymW"
      },
      "source": [
        "# Week 7 Assignment\n",
        "\n",
        "We've been working with different types of data structures in Python (dictionary, list, etc), how those are represented in JSON documents, and how to write code to access specific data elements. In this week's assignment, you will need to create your own JSON document to store information about yourself and the grades you've received from week 1 to week 4 and the week 6 quiz.  That is, everything you should have received a grade for.  Then you'll need to show me you know how to navigate the JSON in that file.\n",
        "\n",
        "Different from what we've done in the past, you do not have to write any functions or include any docstrings.  Just create some JSON and write some code.\n",
        "\n",
        "---"
      ]
    },
    {
      "cell_type": "markdown",
      "metadata": {
        "id": "xqFSCY2kDyma"
      },
      "source": [
        "## 7.1 Create a JSON string\n",
        "\n",
        "Create a JSON string that contains your name, email, year you were born, all of the grades you've received back so far, and a comment about what you thought was most challenging on each of those assignments.  This can be any structure you choose, but make sure it uses a dictionary and a list, and has at least two levels of hierarchy.  That is, it can't just be one big long list."
      ]
    },
    {
      "cell_type": "markdown",
      "metadata": {
        "id": "tpFHx0gIDymb"
      },
      "source": [
        "First, explain how your data structure is going to look..."
      ]
    },
    {
      "cell_type": "markdown",
      "metadata": {
        "id": "D7EnvqR1Dymb"
      },
      "source": [
        "* Put your explanation here in text..."
      ]
    },
    {
      "cell_type": "markdown",
      "metadata": {
        "id": "2P2XwFvbDymb"
      },
      "source": [
        "Then put the actual JSON you've created inside the multiline string below..."
      ]
    },
    {
      "cell_type": "code",
      "execution_count": 47,
      "metadata": {
        "id": "o1Bxq684Dymc"
      },
      "outputs": [],
      "source": [
        "hds5210 = \"\"\"{\n",
        "    \"Name\": \"Vishal_Ravichandran\",\n",
        "    \"E-mail\": \"vravicahandran@slu.edu\",\n",
        "    \"Year_of_birth\": 2000,\n",
        "    \"Grades\": {\n",
        "        \"week01\": {\n",
        "            \"score\": \"10\",\n",
        "            \"feedback\": {\n",
        "                \"Multiple choice\": [\"*   No feedback\"],\n",
        "                \"Functionality\": [\"*   No feedback\"],\n",
        "                \"coding\": [\"*   No feedback\"],\n",
        "                \"My challenges\": [\"During week 01 i did not face any challenge because there was no coding.\"]\n",
        "            }\n",
        "        },\n",
        "        \"week02\": {\n",
        "            \"score\": \"10\",\n",
        "            \"feedback\": {\n",
        "                \"Multiple choice\": [\n",
        "                    \"Did you complete and submit the multiple choice part of the assignment?\",\n",
        "                    \"*   All good\"\n",
        "                ],\n",
        "                \"Functionality\": [\n",
        "                    \"Did your code do what the assignment required?\",\n",
        "                    \"*   Everything worked as expected\"\n",
        "                ],\n",
        "                \"coding\": [\n",
        "                    \"Was your code readable, efficient, and in line with what we learned in class?\",\n",
        "                    \"*   Nice work!\"\n",
        "                ],\n",
        "                \"My challenges\": [\"During week 02 assignment i felt easy with the MCQ and the coding part was a bit ok where I used the steps which were taught in the class and also used W3school where this helped me to secure good marks.\"]\n",
        "            }\n",
        "        },\n",
        "        \"week03\": {\n",
        "            \"score\": \"10\",\n",
        "            \"feedback\": {\n",
        "                \"Multiple choice\": [\n",
        "                    \"Did you complete and submit the multiple choice part of the assignment?\",\n",
        "                    \"*   Complete\"\n",
        "                ],\n",
        "                \"Functionality\": [\n",
        "                    \"Did your code do what the assignment required?\",\n",
        "                    \"*   All code worked as expected\"\n",
        "                ],\n",
        "                \"coding\": [\n",
        "                    \"Was your code readable, efficient, and in line with what we learned in class?\",\n",
        "                    \"*   No comments\"\n",
        "                ],\n",
        "                \"My challenges\": [\"In week 03 assignment I did my MCQ where I could run it many times also to correct it, and in the coding part, I felt a bit confusing. I did it many times, and at last, I was able to run the code and where I learned to use the if and elif.\"]\n",
        "            }\n",
        "        },\n",
        "        \"week04\": {\n",
        "            \"score\": \"09\",\n",
        "            \"feedback\": {\n",
        "                \"Multiple choice\": [\n",
        "                    \"Did you complete and submit the multiple choice part of the assignment?\",\n",
        "                    \"*   Complete\"\n",
        "                ],\n",
        "                \"Functionality\": [\n",
        "                    \"Did your code do what the assignment required?\",\n",
        "                    \"*   All code worked as expected\"\n",
        "                ],\n",
        "                \"coding\": [\n",
        "                    \"Was your code readable, efficient, and in line with what we learned in class?\",\n",
        "                    \"*   (-1) You need better variable names than i and j\"\n",
        "                ],\n",
        "                \"My challenges\": [\"The week 04 assignment was a bit confusing in the coding part where I had to use a for loop, if and elif too, and also use greater than and less than symbols to make the code run efficiently.\"]\n",
        "            }\n",
        "        },\n",
        "        \"week06_Quiz\": {\n",
        "            \"score\": \"05\",\n",
        "            \"feedback\": {\n",
        "                \"Functionality\": [\n",
        "                    \"Did your code do what the assignment required?\",\n",
        "                    \"*   All code worked as expected\"\n",
        "                ],\n",
        "                \"Fill_in_the_blank\": [\n",
        "                    \"Did you answer the data type questions correctly?\",\n",
        "                    \"*   All data types questions were answered correctly\"\n",
        "                ],\n",
        "                \"coding\": [\n",
        "                    \"Have you added your docstrings correctly?\",\n",
        "                    \"*   (-10 from base) You did not have any docstrings\"\n",
        "                ],\n",
        "                \"Quality_and_completeness\": [\n",
        "                    \"The code provided by ChatGPT and consequently the code you submitted for this quiz did not include all of the required documentation and docstring tests:\",\n",
        "                    \"*   You will only earn a maximum of 5 points\"\n",
        "                ],\n",
        "                \"My challenge\": [\"During the quiz, where I knew the concepts of the code that have to be put, but where I got an error and I could not find where I did a mistake, then at the last moment, I used Chat GPT, where I realized I should have asked the professor instead. Later, I came back home and worked on it. I started learning more about it.\"]\n",
        "            }\n",
        "        }\n",
        "    }\n",
        "}\n",
        "\"\"\""
      ]
    },
    {
      "cell_type": "markdown",
      "metadata": {
        "id": "M8GkcQ2lDymd"
      },
      "source": [
        "## 7.2 Do something with your JSON\n",
        "\n",
        "Now use Python code to do something with the Json above.  Turn it into English text, but make sure that you use at least one loop to access some dict or list content of your JSON.  Below, I've provided some basic code to read in the string above as JSON and return a Python object.  Your job is to work with that data structure and print out the important information like your name, email, and how you did on each assignment."
      ]
    },
    {
      "cell_type": "code",
      "execution_count": 48,
      "metadata": {
        "id": "IlG0EuVtDymd",
        "outputId": "6ba2f0b2-20d8-4d72-d457-de2fb506272d",
        "colab": {
          "base_uri": "https://localhost:8080/"
        }
      },
      "outputs": [
        {
          "output_type": "stream",
          "name": "stdout",
          "text": [
            "Name Vishal_Ravichandran\n",
            "E-mail vravicahandran@slu.edu\n",
            "Year_of_birth 2000\n",
            "week01\n",
            "________________________________________________________________________________________________________\n",
            "The score of week01 is 10\n",
            "________________________________________________________________________________________________________\n",
            "Multiple choice\n",
            "*   No feedback\n",
            "Functionality\n",
            "*   No feedback\n",
            "coding\n",
            "*   No feedback\n",
            "My challenges\n",
            "During week 01 i did not face any challenge because there was no coding.\n",
            "week02\n",
            "________________________________________________________________________________________________________\n",
            "The score of week02 is 10\n",
            "________________________________________________________________________________________________________\n",
            "Multiple choice\n",
            "Did you complete and submit the multiple choice part of the assignment?\n",
            "*   All good\n",
            "Functionality\n",
            "Did your code do what the assignment required?\n",
            "*   Everything worked as expected\n",
            "coding\n",
            "Was your code readable, efficient, and in line with what we learned in class?\n",
            "*   Nice work!\n",
            "My challenges\n",
            "During week 02 assignment i felt easy with the MCQ and the coding part was a bit ok where I used the steps which were taught in the class and also used W3school where this helped me to secure good marks.\n",
            "week03\n",
            "________________________________________________________________________________________________________\n",
            "The score of week03 is 10\n",
            "________________________________________________________________________________________________________\n",
            "Multiple choice\n",
            "Did you complete and submit the multiple choice part of the assignment?\n",
            "*   Complete\n",
            "Functionality\n",
            "Did your code do what the assignment required?\n",
            "*   All code worked as expected\n",
            "coding\n",
            "Was your code readable, efficient, and in line with what we learned in class?\n",
            "*   No comments\n",
            "My challenges\n",
            "In week 03 assignment I did my MCQ where I could run it many times also to correct it, and in the coding part, I felt a bit confusing. I did it many times, and at last, I was able to run the code and where I learned to use the if and elif.\n",
            "week04\n",
            "________________________________________________________________________________________________________\n",
            "The score of week04 is 09\n",
            "________________________________________________________________________________________________________\n",
            "Multiple choice\n",
            "Did you complete and submit the multiple choice part of the assignment?\n",
            "*   Complete\n",
            "Functionality\n",
            "Did your code do what the assignment required?\n",
            "*   All code worked as expected\n",
            "coding\n",
            "Was your code readable, efficient, and in line with what we learned in class?\n",
            "*   (-1) You need better variable names than i and j\n",
            "My challenges\n",
            "The week 04 assignment was a bit confusing in the coding part where I had to use a for loop, if and elif too, and also use greater than and less than symbols to make the code run efficiently.\n",
            "week06_Quiz\n",
            "________________________________________________________________________________________________________\n",
            "The score of week06_Quiz is 05\n",
            "________________________________________________________________________________________________________\n",
            "Functionality\n",
            "Did your code do what the assignment required?\n",
            "*   All code worked as expected\n",
            "Fill_in_the_blank\n",
            "Did you answer the data type questions correctly?\n",
            "*   All data types questions were answered correctly\n",
            "coding\n",
            "Have you added your docstrings correctly?\n",
            "*   (-10 from base) You did not have any docstrings\n",
            "Quality_and_completeness\n",
            "The code provided by ChatGPT and consequently the code you submitted for this quiz did not include all of the required documentation and docstring tests:\n",
            "*   You will only earn a maximum of 5 points\n",
            "My challenge\n",
            "During the quiz, where I knew the concepts of the code that have to be put, but where I got an error and I could not find where I did a mistake, then at the last moment, I used Chat GPT, where I realized I should have asked the professor instead. Later, I came back home and worked on it. I started learning more about it.\n"
          ]
        }
      ],
      "source": [
        "import json\n",
        "info = json.loads(hds5210)\n",
        "for detail,identity in info.items():\n",
        "  if detail !='Grades':\n",
        "    print(detail,identity)\n",
        "for assignment,results in info['Grades'].items():\n",
        "  print(assignment)\n",
        "  for score,feedback in results.items():\n",
        "    print('________________________________________________________________________________________________________')\n",
        "    if score=='score':\n",
        "      print('The score of',assignment,'is',feedback)\n",
        "    if score!='score':\n",
        "      for category,suggestion in feedback.items():\n",
        "        print(category)\n",
        "        for multiple_suggestions in suggestion:\n",
        "          print(multiple_suggestions)\n"
      ]
    },
    {
      "cell_type": "markdown",
      "metadata": {
        "id": "vv5x_8VpDymd"
      },
      "source": [
        "## 7.3 Reflect\n",
        "\n",
        "Write a paragraph on any reflections you have. Was this hard? Easy?  What parts were most challenging or easiest? What did you like or dislike about the assignment?  Share whatever important thoughts you have abou this assignment."
      ]
    },
    {
      "cell_type": "markdown",
      "metadata": {
        "id": "LZQPZGxYDyme"
      },
      "source": [
        "* In the assigment part i feel like in the modrate state where to understand the concept takes little more extra practice and also i have learned so concepts where we should use the for loop if and elif and also i feeel more practice of this would make it more easier for me to put the code realting the concepts.The solutions that is been posted after the assignment helps us more to learn different methods to code and also easy too."
      ]
    },
    {
      "cell_type": "markdown",
      "metadata": {
        "id": "2HfS_gfADyme"
      },
      "source": [
        "---\n",
        "\n",
        "# Example\n",
        "\n",
        "Below is an example of something similar, but this uses information my and my friend's kids instead of grades."
      ]
    },
    {
      "cell_type": "code",
      "execution_count": 49,
      "metadata": {
        "id": "gkEmhTfqDyme",
        "outputId": "0565a689-dac0-4230-bb7e-fd21ab844a6c",
        "colab": {
          "base_uri": "https://localhost:8080/"
        }
      },
      "outputs": [
        {
          "output_type": "stream",
          "name": "stdout",
          "text": [
            "Hi, my name is Paul. I've got 3 kids. Their names are Ellie, Ada, Teddy.\n",
            "My friend, Anny has 1 kids. That's fewer than me. Their names are 1\n"
          ]
        }
      ],
      "source": [
        "hds5210 = \"\"\"\n",
        "{\n",
        "    \"me\": {\n",
        "        \"name\": \"Paul\",\n",
        "        \"kids\": [\"Ellie\", \"Ada\", \"Teddy\"]\n",
        "    },\n",
        "    \"friend\": {\n",
        "        \"name\": \"Anny\",\n",
        "        \"kids\": [\"Abby\"]\n",
        "    }\n",
        "}\n",
        "\"\"\"\n",
        "\n",
        "import json\n",
        "\n",
        "info = json.loads(hds5210)\n",
        "\n",
        "me = info[\"me\"][\"name\"]\n",
        "my_kids_count = len(info[\"me\"][\"kids\"])\n",
        "kids_list = \", \".join(info[\"me\"][\"kids\"])\n",
        "friend = info[\"friend\"][\"name\"]\n",
        "friends_kid_count = len(info[\"friend\"][\"kids\"])\n",
        "friend_kids = \", \".join(info[\"friend\"][\"kids\"])\n",
        "compare = \"more\" if friends_kid_count > my_kids_count else \"fewer\"\n",
        "\n",
        "print(f\"Hi, my name is {me}. I've got {my_kids_count} kids. Their names are {kids_list}.\")\n",
        "print(f\"My friend, {friend} has {friends_kid_count} kids. That's {compare} than me. Their names are {friends_kid_count}\")"
      ]
    }
  ],
  "metadata": {
    "kernelspec": {
      "display_name": "Python 3",
      "language": "python",
      "name": "python3"
    },
    "language_info": {
      "codemirror_mode": {
        "name": "ipython",
        "version": 3
      },
      "file_extension": ".py",
      "mimetype": "text/x-python",
      "name": "python",
      "nbconvert_exporter": "python",
      "pygments_lexer": "ipython3",
      "version": "3.9.16"
    },
    "colab": {
      "provenance": [],
      "include_colab_link": true
    }
  },
  "nbformat": 4,
  "nbformat_minor": 0
}