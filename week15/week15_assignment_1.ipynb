{
  "cells": [
    {
      "cell_type": "markdown",
      "metadata": {
        "id": "uzGgemt8kUAz"
      },
      "source": [
        "# Nothing to do"
      ]
    },
    {
      "cell_type": "markdown",
      "metadata": {
        "id": "s1TMifhNkUA0"
      },
      "source": [
        "There is no \"assignment_1\" file this week.  :)"
      ]
    },
    {
      "cell_type": "markdown",
      "metadata": {
        "id": "dFe7Q8EkkUA0"
      },
      "source": []
    }
  ],
  "metadata": {
    "language_info": {
      "name": "python"
    },
    "colab": {
      "provenance": []
    }
  },
  "nbformat": 4,
  "nbformat_minor": 0
}