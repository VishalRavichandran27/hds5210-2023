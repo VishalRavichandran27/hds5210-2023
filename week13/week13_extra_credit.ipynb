{
  "cells": [
    {
      "cell_type": "markdown",
      "metadata": {
        "id": "aFVlpw98sQD8"
      },
      "source": [
        "# Week 13 Extra Credit - How will ChatGPT do on your final project idea?\n",
        "\n",
        "This extra credit assignment is entirely optional.  You do not need to do it.\n",
        "\n",
        "If you would like the opportunity to earn up to 5 extra credit points, complete this assignment and submit it via GitHub as normal before Monday, November 27 at 11:59 PM CST.  No late submissions will be accepted.  The file must be saved to your week13 folder in GitHub."
      ]
    },
    {
      "cell_type": "markdown",
      "metadata": {
        "id": "bS0Z-kJnsQEA"
      },
      "source": [
        "## Part 1: Have a conversation with ChatGPT\n",
        "\n",
        "I want you to have a conversation with ChatGPT about your final project idea.  Find out what it thinks about your idea and if it has any data sources (URLs for specific sites) that could be helpful.  Below, either include copy/paste the chat history from your conversation or include a link to the shared chat.  (ChatGPT has an [option to share a link to a specific conversation](https://help.openai.com/en/articles/7925741-chatgpt-shared-links-faq).  It's the up-arrow icon in the upper-right corner of your chat window.)\n",
        "\n",
        "Take this conversationw with ChatGPT as far as you want, but at least ask three or four follow-up questions to refine the information you're getting back.\n",
        "\n",
        "If it starts giving you links to information, don't assume they're going to work. Remember that ChatGPT isn't perfect. So, follow the links and make sure there's information there that matches what ChatGPT says you will find."
      ]
    },
    {
      "cell_type": "markdown",
      "metadata": {
        "id": "qWcQIDXDsQEB"
      },
      "source": [
        "**RESPONSE**\n",
        "https://chat.openai.com/share/4d0ce9e2-b5e4-423c-bcd0-313f28aa3c1e"
      ]
    },
    {
      "cell_type": "markdown",
      "metadata": {
        "id": "mZHfDuHjsQEB"
      },
      "source": [
        "### Part 2: Your reflection\n",
        "\n",
        "Below, tell me what you think ChatGPT did well or not well in your conversation.  Was it good at finding data that you needed?  Was it good at finding actual links that worked?  Did its responses make sense to you?  What did it do well / not well?\n",
        "\n",
        "Your response below should be several sentences.  If you don't have enough feedback, expand your conversation with ChatGPT.  Ask it refine your project idea or start writing code for you.  See what it can do."
      ]
    },
    {
      "cell_type": "markdown",
      "metadata": {
        "id": "Pdvu_ud7sQEC"
      },
      "source": [
        "**RESPONSE**\n",
        "\n",
        "As far i chatted with ChatGpt it gave me a ideas of it but it was like creating a machine learning modeling.\n",
        "But after that i gave my ideas and it gave some examples that should be done for that process.\n",
        "I wanted it to give a precise answer for my ideas and i asked for the datasets for it but it gave the site where i can search for it.\n",
        "I even asked for the links for the datasets but it gave me the links for the websites and which i understood that it cant give me the links for the datasets.\n",
        "I said the my ideas in a precise way what i wanted to do and which dataset i would like to add to create a new dataset for the visualization, it aslo told me what can be shown with that dataset.\n",
        "These ideas was good enough but i wanted it to give a precise links and dataset were i can work on it.  "
      ]
    },
    {
      "cell_type": "markdown",
      "metadata": {
        "id": "wrIiV-NlsQEC"
      },
      "source": [
        "### Submitting\n",
        "\n",
        "Submit this as normal to GitHub with the name `wee13/week13_extra_credit.ipynb`"
      ]
    },
    {
      "cell_type": "markdown",
      "metadata": {
        "id": "vb5jOuSFsQEC"
      },
      "source": []
    }
  ],
  "metadata": {
    "language_info": {
      "name": "python"
    },
    "colab": {
      "provenance": []
    }
  },
  "nbformat": 4,
  "nbformat_minor": 0
}