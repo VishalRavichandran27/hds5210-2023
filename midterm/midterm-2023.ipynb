{
  "cells": [
    {
      "cell_type": "markdown",
      "metadata": {
        "id": "view-in-github",
        "colab_type": "text"
      },
      "source": [
        "<a href=\"https://colab.research.google.com/github/VishalRavichandran27/hds5210-2023/blob/main/midterm/midterm-2023.ipynb\" target=\"_parent\"><img src=\"https://colab.research.google.com/assets/colab-badge.svg\" alt=\"Open In Colab\"/></a>"
      ]
    },
    {
      "cell_type": "markdown",
      "metadata": {
        "id": "nPN3KnFiNDqv"
      },
      "source": [
        "# HDS5210-2022 Midterm\n",
        "\n",
        "In the midterm, you're going to use all the programming and data management skills you've developed so far to build a risk calculator that pretends to be integrated with a clinical registry.  You'll compute the PRIEST COVID-19 Clinical Severity Score for a series of patients and, based on their risk of an adverse outcome, query a REST web service to find a hospital to transfer them to. The end result of your work will be a list of instructions on where each patient should be discharged given their risk and various characteristics of the patient.\n",
        "\n",
        "Each step in the midterm will build up to form your complete solution.\n",
        "\n",
        "**Make sure you write good docstrings and doctests along the way!!**\n",
        "\n",
        "**The midterm is due at 11:59 PM CST on Monday, October 23rd.**\n",
        "\n",
        "---"
      ]
    },
    {
      "cell_type": "markdown",
      "metadata": {
        "id": "lEGa_dZwNDqx"
      },
      "source": [
        "## Step 1: Calculate PRIEST Clinical Severity Score\n",
        "\n",
        "This scoring algorithm can be found [here on the MDCalc website](https://www.mdcalc.com/priest-covid-19-clinical-severity-score#evidence).  \n",
        "\n",
        "1. You will need to write a function called **priest()** with the following input parameters.  \n",
        " * Sex (Gender assigned at birth)\n",
        " * Age in years\n",
        " * Respiratory rate in breaths per minute\n",
        " * Oxygen saturation as a percent between 0 and 1\n",
        " * Heart rate in beats per minute\n",
        " * Systolic BP in mmHg\n",
        " * Temperature in degrees C\n",
        " * Alertness as a string description\n",
        " * Inspired Oxygen as as string description\n",
        " * Performance Status as a string description\n",
        "2. The function will need to follow the algorithm provided on the MDCalc website to compute a risk percentage that should be returned as a numeric value between 0 and 1.\n",
        "3. Be sure to use docstring documentation and at least three built-in docstring test cases.\n",
        "4. Assume that the input values that are strings could be any combination of upper or lower case. For example: 'male', 'Male', 'MALE', 'MalE' should all be interpretted by your code as male.\n",
        "5. If any of the inputs are invalid (for example a sex value that is not recognizable as male or female) your code should return None.\n",
        "\n",
        "NOTES:\n",
        "1. In the final step there is a table that translates from **PRIEST Score** to **30-day probability of an outcome** but the last two probabilities are shown as ranges (59-88% and >99%).  Our code needs to output a single number, however. For our code, use the following rule:\n",
        " * If PRIEST score is between 17 and 25, the probability you return should be 0.59\n",
        " * If PRIEST score is greater than or equal to 26, the probability you return should be 0.99\n"
      ]
    },
    {
      "cell_type": "code",
      "execution_count": 130,
      "metadata": {
        "id": "085GWIlqNDqy"
      },
      "outputs": [],
      "source": [
        "def priest(sex='male',\n",
        "       age=16,\n",
        "       respiratory_rate=18,\n",
        "       oxygen_saturation=99,\n",
        "       heart_rate=72,\n",
        "       systolic_bp=120,\n",
        "       temperature=98.6,\n",
        "       alertness='alert',\n",
        "       inspired_oxygen='air',\n",
        "       performance_status=\t'Unrestricted normal activity'):\n",
        "  \"\"\"\n",
        "  ((str),(int),(float),(float),(float),(float),(float),(str),(str),(str)) ->float\n",
        "  Here i have defined the priest where it contains different parameters as mentioned above and i have created the strings to be in lower\n",
        "  case, intially i have kept the score as zero and we are going to calculate the score for each parameter for this i have used if and\n",
        "  elif condition to give the score according to the website for the covid patients where if there is other than this condition would be none.\n",
        "  I have also given the scores of the percentages in the float as mentioned in the queastion to satisfy the datas.\n",
        "\n",
        "  >>> priest('male',42,18,0.90,70,110,96.2,'alert','air','limited self-care')\n",
        "  0.29\n",
        "\n",
        "  >>> priest('female',20,30,0.80,60,100,90.5,'alert','air','limited self-care')\n",
        "  0.46\n",
        "\n",
        "  >>> priest('other',10,20,0.70,50,80,70.5,'alert','air','limited self-care')==None\n",
        "  True\n",
        "\n",
        "  \"\"\"\n",
        "\n",
        "  ## here i have used the code to make the strings in the lower case.\n",
        "  sex=sex.lower()\n",
        "  alertness=alertness.lower()\n",
        "  inspired_oxygen=inspired_oxygen.lower()\n",
        "  performance_status=performance_status.lower()\n",
        "\n",
        "  ## here i have uded if,elif,else to give the score for male, female and if other then to give me none.\n",
        "  score=0\n",
        "  if sex=='male':\n",
        "    score+=1\n",
        "  elif sex=='female':\n",
        "    score+0\n",
        "  else:\n",
        "    return None\n",
        "\n",
        "  ## here i have used the if,elif,else to give the score for the age of the patient and if other then to give me none.\n",
        "  if age>=16 and age<50:\n",
        "    score+=0\n",
        "  elif age>=50 and age<66:\n",
        "    score+=2\n",
        "  elif age>=66 and age<81:\n",
        "    score+=3\n",
        "  elif age>80:\n",
        "    score+=4\n",
        "  else:\n",
        "    return None\n",
        "\n",
        "  ## here i have used the if,elif,else to give the score for the respiratory rate of the patient as per the patients data and if other to give none.\n",
        "  if respiratory_rate<9:\n",
        "    score+=3\n",
        "  elif respiratory_rate>=9 and respiratory_rate<12:\n",
        "    score+=1\n",
        "  elif respiratory_rate>=12 and respiratory_rate<21:\n",
        "    score+=0\n",
        "  elif respiratory_rate>=21 and respiratory_rate<25:\n",
        "    score+=2\n",
        "  elif respiratory_rate>24:\n",
        "    score+=3\n",
        "  else:\n",
        "    return None\n",
        "\n",
        "  ## here i have used the if, elif and else to give the score for the oxygen saturation level of patient as per the criteria in the website and if other to give none.\n",
        "  if oxygen_saturation >0.95:\n",
        "    score+=0\n",
        "  elif oxygen_saturation>=0.94 and oxygen_saturation<=0.95:\n",
        "    score+=1\n",
        "  elif oxygen_saturation>=0.92 and oxygen_saturation<=0.93:\n",
        "    score+=2\n",
        "  elif oxygen_saturation<0.92:\n",
        "    score+=3\n",
        "  else:\n",
        "    return None\n",
        "\n",
        "  ## here i have used the if, elif and else to give the score for the heart rate of the patient as per the criteria in website and if other to give none.\n",
        "  if heart_rate<41:\n",
        "    score+=3\n",
        "  elif heart_rate>=41 and heart_rate<=50:\n",
        "    score+=1\n",
        "  elif heart_rate>=51 and heart_rate<=90:\n",
        "    score+=0\n",
        "  elif heart_rate>=91 and heart_rate<=110:\n",
        "    score+=1\n",
        "  elif heart_rate>=111 and heart_rate<=130:\n",
        "    score+=2\n",
        "  elif heart_rate>130:\n",
        "    score+=3\n",
        "  else:\n",
        "    return None\n",
        "\n",
        "  ## here i have used the if, elif and else to give the score of the systolic bp for the patient as per the criteria in website and if other to give none.\n",
        "  if systolic_bp<91:\n",
        "    score+=3\n",
        "  elif systolic_bp>=91 and systolic_bp<=100:\n",
        "    score+=2\n",
        "  elif systolic_bp>=101 and systolic_bp<=110:\n",
        "    score+=1\n",
        "  elif systolic_bp>=111 and systolic_bp<=219:\n",
        "    score+=0\n",
        "  elif systolic_bp>219:\n",
        "    score+=3\n",
        "  else:\n",
        "    return None\n",
        "\n",
        "  ## here i have used the if, elif and else to give the score of the temperature for the patients as per the criteria in the website and if other to give none.\n",
        "  if temperature <35.1:\n",
        "    score+=3\n",
        "  elif temperature>=35.1 and temperature<=36.0:\n",
        "    score+=1\n",
        "  elif temperature>=36.1 and temperature<=38.0:\n",
        "    score+=0\n",
        "  elif temperature>=38.1 and temperature<=39.0:\n",
        "    score+=1\n",
        "  elif temperature>39.0:\n",
        "    score+=2\n",
        "  else:\n",
        "    return None\n",
        "\n",
        "  ## here i have used the if, elif and else to give the score of the alertness for the patients as per the criteria in the website and if other to give none.\n",
        "  if alertness=='alert':\n",
        "    score+=0\n",
        "  elif alertness=='confused or not alert':\n",
        "    score+=3\n",
        "  else:\n",
        "    return None\n",
        "\n",
        "  ## here i have used the if, elif and else to give the score of the inspired oxygen and give the final result in strings for the patients as per the website criteria\n",
        "  ## and if other to give none.\n",
        "  if inspired_oxygen=='air':\n",
        "    score+=0\n",
        "  elif inspired_oxygen=='supplemental oxygen':\n",
        "    score+=2\n",
        "  else:\n",
        "    return None\n",
        "\n",
        "  ## here i have used the if, elif and else to give the score of the performance status and give the final result in strings for the patients as per the website criteria\n",
        "  ## and if other to give none.\n",
        "  if performance_status=='unrestricted normal activity':\n",
        "    score+=0\n",
        "  elif performance_status=='limited strenuous activity, can do light activity':\n",
        "    score+=1\n",
        "  elif performance_status=='limited activity, can self-care':\n",
        "    score+=2\n",
        "  elif performance_status=='limited self-care':\n",
        "    score+=3\n",
        "  elif performance_status=='bed/chair bound, no self-care':\n",
        "    score+=4\n",
        "  else:\n",
        "    return None\n",
        "\n",
        "  ## here i have used the if and elif condition to give the percentage for the score that have been given for the patients.\n",
        "  if score==0 or score==1:\n",
        "    percentage=0.01\n",
        "  elif score==2 or score==3:\n",
        "    percentage=0.02\n",
        "  elif score==4:\n",
        "    percentage=0.03\n",
        "  elif score==5:\n",
        "    percentage=0.09\n",
        "  elif score==6:\n",
        "    percentage=0.15\n",
        "  elif score==7:\n",
        "    percentage=0.18\n",
        "  elif score==8:\n",
        "    percentage=0.22\n",
        "  elif score==9:\n",
        "    percentage=0.26\n",
        "  elif score==10:\n",
        "    percentage=0.29\n",
        "  elif score==11:\n",
        "    percentage=0.34\n",
        "  elif score==12:\n",
        "    percentage=0.38\n",
        "  elif score==13:\n",
        "    percentage=0.46\n",
        "  elif score==14:\n",
        "    percentage=0.47\n",
        "  elif score==15:\n",
        "    percentage=0.49\n",
        "  elif score==16:\n",
        "    percentage=0.55\n",
        "  elif score>=17 and score<=25:\n",
        "    percentage='0.59'\n",
        "  elif score>=26:\n",
        "    percentage='0.99'\n",
        "  return percentage"
      ]
    },
    {
      "cell_type": "code",
      "source": [
        "assert(priest('male',42,18,0.90,70,110,96.2,'alert','air','limited self-care')==0.29)\n",
        "assert(priest('female',20,30,0.80,60,100,90.5,'alert','air','limited self-care')==0.46)\n",
        "assert(priest('other',10,20,0.70,50,80,70.5,'alert','air','limited self-care')==None)"
      ],
      "metadata": {
        "id": "yzNAefMsbA41"
      },
      "execution_count": 131,
      "outputs": []
    },
    {
      "cell_type": "code",
      "execution_count": 132,
      "metadata": {
        "colab": {
          "base_uri": "https://localhost:8080/"
        },
        "id": "PQWJKEcLNDqy",
        "outputId": "519247fe-3020-41bf-961b-903881866141"
      },
      "outputs": [
        {
          "output_type": "stream",
          "name": "stdout",
          "text": [
            "Finding tests in NoName\n",
            "Trying:\n",
            "    priest('male',42,18,0.90,70,110,96.2,'alert','air','limited self-care')\n",
            "Expecting:\n",
            "    0.29\n",
            "ok\n",
            "Trying:\n",
            "    priest('female',20,30,0.80,60,100,90.5,'alert','air','limited self-care')\n",
            "Expecting:\n",
            "    0.46\n",
            "ok\n",
            "Trying:\n",
            "    priest('other',10,20,0.70,50,80,70.5,'alert','air','limited self-care')==None\n",
            "Expecting:\n",
            "    True\n",
            "ok\n"
          ]
        }
      ],
      "source": [
        "import doctest\n",
        "doctest.run_docstring_examples(priest, globals(),verbose=True)"
      ]
    },
    {
      "cell_type": "markdown",
      "metadata": {
        "id": "ltR2GmhhNDqz"
      },
      "source": [
        "## Part 2: Find a hospital\n",
        "\n",
        "The next thing we have to do is figure out where to send this particular patient.  The guidelines on where to send a patient are based on their age (pediatric, adult, geriatric), sex, and risk percentage.  Luckily, you don't have to implement these rules. I already have. All you have to do is use a REST web service that I've created for you.\n",
        "\n",
        "You'll want to use Python to make a call to my REST web service similar to the example URL below. The first part of the URL will be the same for everyone and every request that you make. What you will need to modify for each of your requests is the information after the question mark.\n",
        "\n",
        "```\n",
        "https://oumdj6oci2.execute-api.us-east-1.amazonaws.com/prd/?age=40&sex=male&risk_pct=0.1\n",
        "```\n",
        "\n",
        "The example above asks my web service where a 40-year old male with a risk of 10% should go.  What the web service will return back is a JSON string containing the information you need.  That JSON will look like this:\n",
        "\n",
        "```json\n",
        "{\n",
        "  \"age\": \"40\",\n",
        "  \"sex\": \"male\",\n",
        "  \"risk\": \"0.1\",\n",
        "  \"hospital\": \"Southwest Hospital and Medical Center\"\n",
        "}\n",
        "```\n",
        "\n",
        "My function is not smart enough to understand `'MALE'` is the same as `'male'`.  You have to send it exactly `'male'` or `'female'`\n",
        "\n",
        "1. Your job is to write a function called **find_hospital()** that takes age, sex, and risk as parameters.\n",
        "2. Your function should call this REST web service using the `requests` module\n",
        "3. Then your function will need to interpret the JSON it gets and return just the name of the hospital\n",
        "4. If anything fails, return None\n",
        "5. Include a good docstring with at least three test cases.\n"
      ]
    },
    {
      "cell_type": "code",
      "execution_count": 133,
      "metadata": {
        "id": "8xR8Hlw0NDq0"
      },
      "outputs": [],
      "source": [
        "def find_hospital(age,sex,risk):\n",
        "  \"\"\"\n",
        "  ((int),(str),(float))->str\n",
        "  Here i have defined the find hospital as per the different parameters as mentioned above and i have used if condition\n",
        "  to satisfy the condition none for the sex and the risk for the patient details and imported the request to get the\n",
        "  access to the url and validating the age,sex,risk for the details in the hospital and if the validation is not valid then return none.\n",
        "\n",
        "\n",
        "  >>> find_hospital(50,'male',0.54)\n",
        "  'Emory Dunwoody Medical Center'\n",
        "\n",
        "  >>> find_hospital(20,'female',0.10)\n",
        "  'Select Specialty Hospital - Northeast Atlanta'\n",
        "\n",
        "  >>> find_hospital(80,'male',0.10)\n",
        "  'Wesley Woods Geriatric Hospital'\n",
        "\n",
        "  \"\"\"\n",
        "  ## here i have wrote the code to make the sex in the lower case and used if condition to give the result as none if the condition does not satisfy.\n",
        "  sex=sex.lower()\n",
        "  if sex!='male' and sex!='female':\n",
        "    return None\n",
        "  if risk<0.01 or risk>0.99 or risk==None:\n",
        "    return None\n",
        "\n",
        "  ## here i have imported the requests and url and in the formate of age,sex,risk.\n",
        "  import requests\n",
        "  url = \"https://oumdj6oci2.execute-api.us-east-1.amazonaws.com/prd/?age={0}&sex={1}&risk_pct={2}\".format(age,sex,risk)\n",
        "  response = requests.get(url)\n",
        "  return response.json()['hospital']\n"
      ]
    },
    {
      "cell_type": "code",
      "source": [
        "assert(find_hospital(50,'male',0.54))=='Emory Dunwoody Medical Center'\n",
        "assert(find_hospital(20,'female',0.10))=='Select Specialty Hospital - Northeast Atlanta'\n",
        "assert(find_hospital(80,'male',0.10))=='Wesley Woods Geriatric Hospital'"
      ],
      "metadata": {
        "id": "yXjTlNFCPYQM"
      },
      "execution_count": 134,
      "outputs": []
    },
    {
      "cell_type": "code",
      "execution_count": 135,
      "metadata": {
        "id": "O6wYtct7NDq0",
        "outputId": "1fe90dc4-bc18-451b-8646-bf1cbfc022bd",
        "colab": {
          "base_uri": "https://localhost:8080/"
        }
      },
      "outputs": [
        {
          "output_type": "stream",
          "name": "stdout",
          "text": [
            "Finding tests in NoName\n",
            "Trying:\n",
            "    find_hospital(50,'male',0.54)\n",
            "Expecting:\n",
            "    'Emory Dunwoody Medical Center'\n",
            "ok\n",
            "Trying:\n",
            "    find_hospital(20,'female',0.10)\n",
            "Expecting:\n",
            "    'Select Specialty Hospital - Northeast Atlanta'\n",
            "ok\n",
            "Trying:\n",
            "    find_hospital(80,'male',0.10)\n",
            "Expecting:\n",
            "    'Wesley Woods Geriatric Hospital'\n",
            "ok\n"
          ]
        }
      ],
      "source": [
        "import doctest\n",
        "doctest.run_docstring_examples(find_hospital, globals(),verbose=True)"
      ]
    },
    {
      "cell_type": "markdown",
      "metadata": {
        "id": "YyHfsPSxNDq0"
      },
      "source": [
        "## Part 3: Get the address for that hospital from a JSON file\n",
        "\n",
        "Great! Now we have code to tell us which hospital to send someone to... but we don't know where that hospital is. The next function we need to create is one that looks up the address of that hospital.  All of these hospitals are in Atlanta, Georgia.  We're going to use the list from this webpage to lookup the address for that hospital, based on its name.  https://www.officialusa.com/stateguides/health/hospitals/georgia.html\n",
        "\n",
        "Because we skipped the section about Beautiful Soup and working with HTML, I've converted this information into a JSON document for you.  It's available for you here.  Your code should retrieve this file using the `requests` module.\n",
        "\n",
        "`https://drive.google.com/uc?export=download&id=1fIFD-NkcdiMu941N4GjyMDWxiKsFJBw-`\n",
        "\n",
        "1. You need to create a function called **get_address()** that takes hospital name as a parameter and searches the data from this JSON file for the hospital you want to find.\n",
        "2. Your code will have to load the JSON and return the correct hospital based on name.\n",
        "3. If the hospital name isn't found, the function should return None.\n",
        "4. Be sure to use good docstring documentation and includes at least 3 test cases."
      ]
    },
    {
      "cell_type": "code",
      "execution_count": 136,
      "metadata": {
        "id": "ZvQ2elUNNDq0"
      },
      "outputs": [],
      "source": [
        "import requests\n",
        "import json\n",
        "def get_address(hospital='hospital'):\n",
        "  \"\"\"\n",
        "  (str)->str\n",
        "  Here i have imported the request from the previous activity and also i have imported the json file.\n",
        "  I have defined the get address as hospital and i have put the url to access the details of the hospital and loaded the data of the\n",
        "  hosptal from the json and used if condition to get the address Where it is in upper case and if not to give none.\n",
        "  where we get the address of the hospitals from the dictionary.\n",
        "\n",
        "  >>> get_address(hospital=\"Emory Dunwoody Medical Center\")\n",
        "  '4500 NORTH SHALLOWFORD ROAD'\n",
        "\n",
        "  >>> get_address(hospital=\"Select Specialty Hospital - Northeast Atlanta\")\n",
        "  '1821 CLIFTON ROAD NE'\n",
        "\n",
        "  >>> get_address(hospital=\"Wesley Woods Geriatric Hospital\")\n",
        "  '1821 CLIFTON ROAD, NE'\n",
        "\n",
        "  \"\"\"\n",
        "  url =\"https://hds5210-data.s3.amazonaws.com/ga_hospitals.json\"\n",
        "  response = requests.get(url)\n",
        "  hospital_data=json.loads(response.text)\n",
        "  if hospital.upper() in hospital_data.keys():\n",
        "    return hospital_data[hospital.upper()]['ADDRESS']\n",
        "  else:\n",
        "    return 'None'"
      ]
    },
    {
      "cell_type": "code",
      "source": [
        "assert get_address(hospital=\"Emory Dunwoody Medical Center\")=='4500 NORTH SHALLOWFORD ROAD'\n",
        "assert get_address(hospital=\"Select Specialty Hospital - Northeast Atlanta\")=='1821 CLIFTON ROAD NE'\n",
        "assert get_address(hospital=\"Wesley Woods Geriatric Hospital\")=='1821 CLIFTON ROAD, NE'"
      ],
      "metadata": {
        "id": "-1Tn1aTuBqNV"
      },
      "execution_count": 137,
      "outputs": []
    },
    {
      "cell_type": "code",
      "source": [
        "import doctest\n",
        "doctest.run_docstring_examples(get_address, globals(),verbose=True)"
      ],
      "metadata": {
        "id": "7Ml5okgbIRHQ",
        "outputId": "fcfe86ab-9e91-413c-f00b-4c61ef49281e",
        "colab": {
          "base_uri": "https://localhost:8080/"
        }
      },
      "execution_count": 138,
      "outputs": [
        {
          "output_type": "stream",
          "name": "stdout",
          "text": [
            "Finding tests in NoName\n",
            "Trying:\n",
            "    get_address(hospital=\"Emory Dunwoody Medical Center\")\n",
            "Expecting:\n",
            "    '4500 NORTH SHALLOWFORD ROAD'\n",
            "ok\n",
            "Trying:\n",
            "    get_address(hospital=\"Select Specialty Hospital - Northeast Atlanta\")\n",
            "Expecting:\n",
            "    '1821 CLIFTON ROAD NE'\n",
            "ok\n",
            "Trying:\n",
            "    get_address(hospital=\"Wesley Woods Geriatric Hospital\")\n",
            "Expecting:\n",
            "    '1821 CLIFTON ROAD, NE'\n",
            "ok\n"
          ]
        }
      ]
    },
    {
      "cell_type": "markdown",
      "metadata": {
        "id": "gAF_Mz73NDq0"
      },
      "source": [
        "## Part 4: Run the risk calculator on a population\n",
        "\n",
        "At the link below, there is a file called `people.psv`.  It is a pipe-delimited (`|`) file with columns that match the inputs for the PRIEST calculation above.  Your code should use the `requests` module to retrieve the file from this URL.\n",
        "\n",
        "`https://drive.google.com/uc?export=download&id=1fLxJN9YGUqmqExrilxSS8furwUER5HHh`\n",
        "\n",
        "\n",
        "In addition, the file has a patient identifier in the first column.\n",
        "\n",
        "1. Write a function called **process_people()** that takes the file location above as its only parameter. Your Python program should use your code above to process all of these rows, determine the hospital and address, and return a list whose items are a dictionary like this: `{ patient_number: [sex, age, breath, o2sat, heart, systolic, temp, alertness, inspired, status, hospital, address]}`.  Look at the file in Part 5 for what the output looks like.\n",
        "2. Be sure to use good docstrings, but you don't need any tests in your doc strings.  I've provided those for you withe file in Part 5.\n",
        "\n",
        "\n",
        "**NOTE** that when running your code for all the 100 records in the `people.psv` file, it may take a few minutes to complete.  You're making multiple calls to the internet for each record, so that can take a little while.\n"
      ]
    },
    {
      "cell_type": "code",
      "execution_count": 139,
      "metadata": {
        "id": "6rmJgaDYNDq1"
      },
      "outputs": [],
      "source": [
        "url=\"https://hds5210-data.s3.amazonaws.com/people.psv\"\n",
        "def process_people(website=url):\n",
        "  \"\"\"\n",
        "  (str)->dict\n",
        "  Here i am accessing the url and defined process people where i have created a variable website equal to url\n",
        "  to access the request.get which the address from the above i have created a variable as patient details and\n",
        "  also created another variable as individual pt where it contains the patient details in text in a single row that is splited\n",
        "  using the \\n function and put  everything in the dictionary named individual, I have used the for condition to accesss the patient details\n",
        "  and split the delimiter so that we can access the info from the dictionary and accessed the parameters that are mentioned below\n",
        "  later i have put the function in which parameter the datas are and put individual as id and put the parameters that are necessary in the list.\n",
        "  And found the hospital and the address for the different risk parameters.\n",
        "\n",
        "  \"\"\"\n",
        "  patient_details=requests.get(website)\n",
        "  individual_pt=patient_details.text.split(\"\\n\")\n",
        "  individual={}\n",
        "  for info in individual_pt:\n",
        "    info=info.split('|')\n",
        "    if info[0]!='patient':\n",
        "      id=info[0]\n",
        "      sex=info[1]\n",
        "      age=info[2]\n",
        "      breath=info[3]\n",
        "      o2sat=info[4]\n",
        "      heart=info[5]\n",
        "      systolic=info[6]\n",
        "      temp=info[7]\n",
        "      alertness=info[8]\n",
        "      inspired=info[9]\n",
        "      status=info[10]\n",
        "      risk=priest(sex=sex,\n",
        "        age=int(age),\n",
        "        respiratory_rate=float(breath),\n",
        "        oxygen_saturation=float(o2sat),\n",
        "        heart_rate=float(heart),\n",
        "        systolic_bp=float(systolic),\n",
        "        temperature=float(temp),\n",
        "        alertness=alertness,\n",
        "        inspired_oxygen=inspired,\n",
        "        performance_status=status)\n",
        "      hospital=find_hospital(age,sex,risk)\n",
        "      address=get_address(hospital=hospital)\n",
        "\n",
        "      individual[id]=[sex, int(age), float(breath), float(o2sat), float(heart), float(systolic), float(temp), alertness, inspired, status, risk, hospital, address]\n",
        "  return (individual)\n",
        "patient_data=process_people(\"https://hds5210-data.s3.amazonaws.com/people.psv\")\n"
      ]
    },
    {
      "cell_type": "markdown",
      "metadata": {
        "id": "MaaTr16-NDq1"
      },
      "source": [
        "## Part 5: Checking your final results\n",
        "\n",
        "The final step is to check your results.  You should be able to compare your results to the output in `people_results.json` at the link below.  Write some code to check your results.  This does not need to be a function.\n",
        "\n",
        "`https://drive.google.com/uc?export=download&id=1gx1SSC20mO5XL6uYD0mdcM_cL91fcIW5`\n"
      ]
    },
    {
      "cell_type": "code",
      "execution_count": 140,
      "metadata": {
        "id": "UTI-XE6mNDq1"
      },
      "outputs": [],
      "source": [
        "## Here we access the url and load the requests.get details in the result.\n",
        "url=\"https://hds5210-data.s3.amazonaws.com/people_results.json\"\n",
        "result=requests.get(url)"
      ]
    },
    {
      "cell_type": "code",
      "source": [
        "## Here we create a new json file called as patients.json and we write the data in the result in text and we import it as json\n",
        "## then we access the details from the above.\n",
        "with open(\"patients.json\",'w') as data:\n",
        "  data.write(result.text)\n",
        "import json\n",
        "details=json.load(open(\"patients.json\"))"
      ],
      "metadata": {
        "id": "WSyxgczG-LBM"
      },
      "execution_count": 141,
      "outputs": []
    },
    {
      "cell_type": "code",
      "source": [
        "## from the above details and the patient data we compare both and where we get The both details and patient_data were same ( True )\n",
        "## if not we get it as (false)\n",
        "print('The both details and patient_data were same','(',details==patient_data,')')"
      ],
      "metadata": {
        "id": "yemNsCCFXRSN",
        "outputId": "88899a8f-336a-4b67-929d-353441dca7bc",
        "colab": {
          "base_uri": "https://localhost:8080/"
        }
      },
      "execution_count": 142,
      "outputs": [
        {
          "output_type": "stream",
          "name": "stdout",
          "text": [
            "The both details and patient_data were same ( True )\n"
          ]
        }
      ]
    },
    {
      "cell_type": "markdown",
      "metadata": {
        "id": "IHqJXwuINDq1"
      },
      "source": [
        "---\n",
        "\n",
        "## Check your work above\n",
        "\n",
        "If you didn't get them all correct, take a few minutes to think through those that aren't correct.\n",
        "\n",
        "\n",
        "## Submitting Your Work\n",
        "\n",
        "Submit your work as usual into a folder named `midterm`"
      ]
    },
    {
      "cell_type": "markdown",
      "metadata": {
        "id": "-xd-jWO_NDq2"
      },
      "source": [
        "---"
      ]
    }
  ],
  "metadata": {
    "kernelspec": {
      "display_name": "Python 3",
      "language": "python",
      "name": "python3"
    },
    "language_info": {
      "codemirror_mode": {
        "name": "ipython",
        "version": 3
      },
      "file_extension": ".py",
      "mimetype": "text/x-python",
      "name": "python",
      "nbconvert_exporter": "python",
      "pygments_lexer": "ipython3",
      "version": "3.9.16"
    },
    "colab": {
      "provenance": [],
      "include_colab_link": true
    }
  },
  "nbformat": 4,
  "nbformat_minor": 0
}