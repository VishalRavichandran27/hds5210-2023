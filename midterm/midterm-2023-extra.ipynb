{
  "cells": [
    {
      "cell_type": "markdown",
      "metadata": {
        "id": "view-in-github",
        "colab_type": "text"
      },
      "source": [
        "<a href=\"https://colab.research.google.com/github/VishalRavichandran27/hds5210-2023/blob/main/midterm/midterm-2023-extra.ipynb\" target=\"_parent\"><img src=\"https://colab.research.google.com/assets/colab-badge.svg\" alt=\"Open In Colab\"/></a>"
      ]
    },
    {
      "cell_type": "markdown",
      "metadata": {
        "id": "GBA32cfta-ZV"
      },
      "source": [
        "# Extra Credit\n",
        "\n",
        "For upto an additional 15 extra credit points on the midterm exam, you can write another function that applies additional criteria on top of what the midterm already did.  To earn the addition points, you need write a function called `summarize_results(patients)` to take the output of your  `process_people()` function to apply a new business rule and summarize the results.\n",
        "\n",
        "* Your function should take the dictionary created by `process_people()` as it's one input parameter: `patients`.\n",
        "* If the PRIEST probably is less than 10%, change the `hospital` and `address` to both have a value of `'Home'` indicating patients with a lower probability of an adverse outcome can just go home rather than be admitted to a hospital.\n",
        "* Summarize those results and count how many patients are now being sent to each location.  Your result should have the following format:\n",
        "```\n",
        "{\n",
        "    \"Home\": 123,\n",
        "    \"Hospital A\": 10,\n",
        "    \"Hospital B\": 20,\n",
        "    \"Hospital C\": 30\n",
        "}\n",
        "```\n",
        "\n",
        "As always, your function needs good docstrings; but does not require any doctests in this case."
      ]
    },
    {
      "cell_type": "code",
      "source": [
        "## Here we have imported the requests and accessed the url and created a json file name called patients\n",
        "## and imported the json file to access the patients file and defined the summarize results as patients\n",
        "## and created a dictionary called hospital dict and from that we have used for loop to access the patient id, patient data.\n",
        "## then we give hospital equal to home and using if condition we are giving the patients less than 0.1 for the percentage of risk in the 11th list\n",
        "## where later we combine those result in the hospital dict.\n",
        "import requests\n",
        "url=\"https://hds5210-data.s3.amazonaws.com/people_results.json\"\n",
        "result=requests.get(url)\n",
        "with open(\"patients.json\",'w') as data:\n",
        "  data.write(result.text)\n",
        "import json\n",
        "patients=json.load(open(\"patients.json\"))\n",
        "def summarize_results(patients):\n",
        "    hospital_dict = {}\n",
        "    for patient_id, patient_data in patients.items():\n",
        "        hospital = 'Home' if patient_data[10] < 0.1 else patient_data[11]\n",
        "        hospital_dict[hospital] = hospital_dict.get(hospital, 0) + 1\n",
        "    return hospital_dict\n",
        "\n",
        "result = summarize_results(patients)\n",
        "result"
      ],
      "metadata": {
        "id": "CYRjIPW_uihz",
        "outputId": "515e7fda-7f84-4a29-ef0a-96c40fbc2a08",
        "colab": {
          "base_uri": "https://localhost:8080/"
        }
      },
      "execution_count": 21,
      "outputs": [
        {
          "output_type": "execute_result",
          "data": {
            "text/plain": [
              "{'Select Specialty Hospital - Northeast Atlanta': 32,\n",
              " 'Wesley Woods Geriatric Hospital': 20,\n",
              " 'Southwest Hospital and Medical Center': 16,\n",
              " 'Childrens Healthcare of Atlanta at Scottish Rite': 1,\n",
              " 'Home': 24,\n",
              " 'Hughes Spalding Childrens Hospital': 1,\n",
              " 'Emory Dunwoody Medical Center': 5}"
            ]
          },
          "metadata": {},
          "execution_count": 21
        }
      ]
    },
    {
      "cell_type": "code",
      "source": [],
      "metadata": {
        "id": "Ojx1WDb9yDy5"
      },
      "execution_count": null,
      "outputs": []
    }
  ],
  "metadata": {
    "kernelspec": {
      "display_name": ".venv",
      "language": "python",
      "name": "python3"
    },
    "language_info": {
      "codemirror_mode": {
        "name": "ipython",
        "version": 3
      },
      "file_extension": ".py",
      "mimetype": "text/x-python",
      "name": "python",
      "nbconvert_exporter": "python",
      "pygments_lexer": "ipython3",
      "version": "3.9.16"
    },
    "colab": {
      "provenance": [],
      "include_colab_link": true
    }
  },
  "nbformat": 4,
  "nbformat_minor": 0
}